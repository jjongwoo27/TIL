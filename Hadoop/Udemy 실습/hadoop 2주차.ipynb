{
 "cells": [
  {
   "cell_type": "code",
   "execution_count": null,
   "metadata": {},
   "outputs": [],
   "source": [
    "from pyspark import SparkConf, SparkContext"
   ]
  },
  {
   "cell_type": "code",
   "execution_count": null,
   "metadata": {},
   "outputs": [],
   "source": [
    "def loadMovieNames():\n",
    "    movieNames = {}\n",
    "    with open(\"./u.item\", encoding=\"utf-8\") as f:\n",
    "        for line in f:\n",
    "            fields = line.split('|')\n",
    "            movieNames[int(fields[0])] = fields[1]\n",
    "    return movieNames"
   ]
  },
  {
   "cell_type": "code",
   "execution_count": null,
   "metadata": {},
   "outputs": [],
   "source": [
    "def parseInput(line):\n",
    "    fields = line.split()\n",
    "    return (int(fields[1]), (float(fields[2]), 1.0))"
   ]
  },
  {
   "cell_type": "code",
   "execution_count": null,
   "metadata": {},
   "outputs": [],
   "source": [
    "if __name__ == \"__main__\":\n",
    "    \n",
    "    conf = SparkConf().setAppName(\"WorstMovies\")\n",
    "    sc = SparkContext.getOrCreate(conf = conf)\n",
    "\n",
    "    movieNames = loadMovieNames()\n",
    "\n",
    "    lines = sc.textFile(\"hdfs:///user/maria_dev/ml-100k/u.data\")\n",
    "\n",
    "    movieRatings = lines.map(parseInput)\n",
    "    \n",
    "    ratingTotalsAndCount = movieRatings.reduceByKey(lambda movie1, movie2: ( movie1[0] + movie2[0], movie1[1] + movie2[1] ) )\n",
    "\n",
    "    popularTotalsAndCount = ratingTotalsAndCount.filter(lambda x: x[1][1] > 10)\n",
    "\n",
    "    averageRatings = popularTotalsAndCount.mapValues(lambda totalAndCount : totalAndCount[0] / totalAndCount[1])\n",
    "\n",
    "    sortedMovies = averageRatings.sortBy(lambda x: x[1])\n",
    "\n",
    "    results = sortedMovies.take(10)\n",
    "\n",
    "    for result in results:\n",
    "        print(movieNames[result[0]], result[1])"
   ]
  }
 ],
 "metadata": {
  "kernelspec": {
   "display_name": "Python 3",
   "language": "python",
   "name": "python3"
  },
  "language_info": {
   "codemirror_mode": {
    "name": "ipython",
    "version": 3
   },
   "file_extension": ".py",
   "mimetype": "text/x-python",
   "name": "python",
   "nbconvert_exporter": "python",
   "pygments_lexer": "ipython3",
   "version": "3.7.4"
  }
 },
 "nbformat": 4,
 "nbformat_minor": 2
}
